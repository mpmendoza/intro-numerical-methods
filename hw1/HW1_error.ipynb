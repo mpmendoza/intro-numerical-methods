{
 "cells": [
  {
   "cell_type": "markdown",
   "metadata": {},
   "source": [
    "Before you turn this problem in, make sure everything runs as expected. First, **restart the kernel** (in the menubar, select Kernel$\\rightarrow$Restart) and then **run all cells** (in the menubar, select Cell$\\rightarrow$Run All).\n",
    "\n",
    "Make sure you fill in any place that says `YOUR CODE HERE` or \"YOUR ANSWER HERE\", as well as any collaborators you worked with:"
   ]
  },
  {
   "cell_type": "code",
   "execution_count": null,
   "metadata": {},
   "outputs": [],
   "source": [
    "COLLABORATORS = \"\""
   ]
  },
  {
   "cell_type": "markdown",
   "metadata": {},
   "source": [
    "## To receive credit for this assignment, you must also fill out the [AI Use survey](https://forms.gle/ZhR5k8TdAeN8rj4CA)\n"
   ]
  },
  {
   "cell_type": "markdown",
   "metadata": {},
   "source": [
    "---"
   ]
  },
  {
   "cell_type": "code",
   "execution_count": 1,
   "metadata": {
    "deletable": false,
    "editable": false,
    "nbgrader": {
     "cell_type": "code",
     "checksum": "3c0e6f80c9a8d85d80baddc8df3890a0",
     "grade": false,
     "grade_id": "cell-7531378247537850",
     "locked": true,
     "schema_version": 3,
     "solution": false
    }
   },
   "outputs": [],
   "source": [
    "from __future__ import print_function\n",
    "%matplotlib inline\n",
    "import numpy\n",
    "import matplotlib.pyplot as plt\n",
    "\n",
    "# import the factorial function from scipy\n",
    "from scipy.special import factorial"
   ]
  },
  {
   "cell_type": "markdown",
   "metadata": {
    "deletable": false,
    "editable": false,
    "nbgrader": {
     "cell_type": "markdown",
     "checksum": "57fe3d1a770d32fc71d10c52d47d5765",
     "grade": false,
     "grade_id": "cell-1055125360070174",
     "locked": true,
     "schema_version": 3,
     "solution": false
    }
   },
   "source": [
    "# HW 1:  Forms of Error\n",
    "\n"
   ]
  },
  {
   "cell_type": "markdown",
   "metadata": {
    "deletable": false,
    "editable": false,
    "nbgrader": {
     "cell_type": "markdown",
     "checksum": "763bdcd61a173c57e8d82dcd9519ee2c",
     "grade": false,
     "grade_id": "cell-9681214437904696",
     "locked": true,
     "schema_version": 3,
     "solution": false
    }
   },
   "source": [
    "## Question 1:  definition of errors\n",
    "\n",
    "**(a)**  [4 pts] Write a short python program to calculate and return, the absolute error, relative error and degree of decimal precision (as defined in class) given an object `f` and its approximation `F`.  Note, both `f` and `F` can be numpy arrays."
   ]
  },
  {
   "cell_type": "code",
   "execution_count": 2,
   "metadata": {
    "deletable": false,
    "nbgrader": {
     "cell_type": "code",
     "checksum": "7c9bcb87e713e8ee4fb90ec822ed4d9f",
     "grade": false,
     "grade_id": "cell-a6ede65cf8ed685f",
     "locked": false,
     "schema_version": 3,
     "solution": true,
     "task": false
    }
   },
   "outputs": [],
   "source": [
    "def errors(f,F):\n",
    "    \"\"\" calculate various measures of error of an object f and its approximation F\n",
    "    \n",
    "    Parameters\n",
    "    ----------\n",
    "    f:  numpy.array (or float)\n",
    "        array of true values\n",
    "        \n",
    "    F: numpy.array\n",
    "        array of approximate values\n",
    "        \n",
    "    Returns\n",
    "    -------\n",
    "    \n",
    "    e: array of absolute errors\n",
    "    r: array of relative errors\n",
    "    p: integer array of precisions\n",
    "    \"\"\"\n",
    "    \n",
    "    # Absolute error\n",
    "    e = numpy.abs (f - F)\n",
    "\n",
    "    # Relative error\n",
    "    r = e/numpy.abs(f)\n",
    "    \n",
    "    # integer array of precision - based on 04_error_solution.ipynb lecture notes but modified for use with array:\n",
    "    # p = int(-numpy.log10(r/5.))  <-- not for array\n",
    "    p = numpy.where(r >0, numpy.floor(-numpy.log10(r/5.)), numpy.inf).astype(int)\n",
    "\n",
    "    return e, r, p\n"
   ]
  },
  {
   "cell_type": "code",
   "execution_count": null,
   "metadata": {},
   "outputs": [],
   "source": [
    "# you can test your code here"
   ]
  },
  {
   "cell_type": "code",
   "execution_count": 3,
   "metadata": {
    "deletable": false,
    "editable": false,
    "nbgrader": {
     "cell_type": "code",
     "checksum": "f4295c880e6563c035f2e1176010b834",
     "grade": true,
     "grade_id": "cell-da2659b413c73ca7",
     "locked": true,
     "points": 4,
     "schema_version": 3,
     "solution": false,
     "task": false
    }
   },
   "outputs": [
    {
     "name": "stdout",
     "output_type": "stream",
     "text": [
      "passed scalar test\n",
      "passed array test\n"
     ]
    }
   ],
   "source": [
    "# Testing Cell (do not copy)\n",
    "\n",
    "# Test Simple Scalars\n",
    "e,r,p = errors(numpy.exp(1),2.72)\n",
    "answer = [0.0017181715409551046, 0.0006320799863232398, 3]\n",
    "numpy.testing.assert_allclose([e,r,p], answer)\n",
    "print('passed scalar test')\n",
    "\n",
    "# Test with array input\n",
    "x = [1., 2., 3.]\n",
    "f = numpy.exp(x)\n",
    "F = [ 2.718,  7.389,  20.085]\n",
    "e,r,p = errors(f,F)\n",
    "numpy.testing.assert_allclose(e,[2.81828459e-04, 5.60989307e-05, 5.36923188e-04])\n",
    "numpy.testing.assert_allclose(r,[1.03678896e-04, 7.59216467e-06, 2.67318315e-05])\n",
    "numpy.testing.assert_allclose(p,[4, 5, 5])\n",
    "print('passed array test')"
   ]
  },
  {
   "cell_type": "markdown",
   "metadata": {
    "deletable": false,
    "editable": false,
    "nbgrader": {
     "cell_type": "markdown",
     "checksum": "39ee29a6b36ec47d40b72b71b941b0f2",
     "grade": false,
     "grade_id": "cell-bef4e3baf992ed93",
     "locked": true,
     "schema_version": 3,
     "solution": false,
     "task": false
    }
   },
   "source": [
    "**(b)** [2 pts]  Use your routine to compare the absolute error, relative error and degree of precision for these two rational approximations of $\\pi$\n",
    "\n",
    "* $f = \\pi$ and $F = 22 / 7$\n",
    "* $f = \\pi$ and $F = 355 / 113$\n",
    "\n",
    "Which is more accurate?"
   ]
  },
  {
   "cell_type": "code",
   "execution_count": 4,
   "metadata": {},
   "outputs": [
    {
     "name": "stdout",
     "output_type": "stream",
     "text": [
      "Absolute errors: [1.26448927e-03 2.66764189e-07]\n",
      "Relative errors: [4.02499435e-04 8.49136788e-08]\n",
      "Decimal precisions: [4 7]\n",
      "3.1415929203539825\n",
      "3.141592653589793\n"
     ]
    }
   ],
   "source": [
    "# you can put some working code here to generate your answers, but put your answers in the cell below\n",
    "f = numpy.array([numpy.pi, numpy.pi]) \n",
    "F = numpy.array([(22/7), (355/113)]) \n",
    "\n",
    "e, r, p = errors(f, F) \n",
    "print(\"Absolute errors:\", e) \n",
    "print(\"Relative errors:\", r) \n",
    "print(\"Decimal precisions:\", p)\n",
    "\n",
    "print(355/113)\n",
    "print(numpy.pi)\n"
   ]
  },
  {
   "cell_type": "markdown",
   "metadata": {
    "deletable": false,
    "nbgrader": {
     "cell_type": "markdown",
     "checksum": "21b09b84adbced5a47c2142e0d7a29cd",
     "grade": true,
     "grade_id": "cell-4300360216304258",
     "locked": false,
     "points": 2,
     "schema_version": 3,
     "solution": true
    }
   },
   "source": [
    "355/113 as shown by more digits of precision"
   ]
  },
  {
   "cell_type": "markdown",
   "metadata": {
    "deletable": false,
    "editable": false,
    "nbgrader": {
     "cell_type": "markdown",
     "checksum": "b5a1a21715793f4a9cd1d22da3c6fbd5",
     "grade": false,
     "grade_id": "cell-300ca517618db367",
     "locked": true,
     "schema_version": 3,
     "solution": false,
     "task": false
    }
   },
   "source": [
    "**(c)** [6 pts] Write a python routine to find the most accurate $d$ digit rational approximation to $\\pi$. i.e. find\n",
    "two $d$ digit positive integers $m,n$ such that \n",
    "\n",
    "$$ F = \\frac{m}{n} \\sim \\pi$$\n",
    "\n",
    "(hint:  $355/113$ is the best 3-digit rational approximation)"
   ]
  },
  {
   "cell_type": "code",
   "execution_count": 5,
   "metadata": {
    "deletable": false,
    "nbgrader": {
     "cell_type": "code",
     "checksum": "2fad6f779f0e38180756be9962ecfdda",
     "grade": false,
     "grade_id": "cell-4b8290252c936eec",
     "locked": false,
     "schema_version": 3,
     "solution": true,
     "task": false
    }
   },
   "outputs": [],
   "source": [
    "def rational_pi(d):\n",
    "    ''' Find the best rational approximation to pi ~ m/n where m and n are both d-digit positive integers\n",
    "    \n",
    "    Parameters\n",
    "    ----------\n",
    "    \n",
    "    d: int\n",
    "        number of digits in both m and n\n",
    "    \n",
    "    Returns\n",
    "    -------\n",
    "    m,n: int\n",
    "        numerator and denominator of best d digit rational approximation to pi ~ m/n\n",
    "        \n",
    "    '''\n",
    "    # d will be a parameter passed into this function\n",
    "    # d = range(1,6)]\n",
    "    \n",
    "    # Office Hours \n",
    "    # The obvious thing to jump to is a double loop, but you know more about this problem that you don't have to loop over m and n\n",
    "    # The problem is approximate by a rational function where the only constraints are:\n",
    "    #   - m and n are integers\n",
    "    #   - m and n both have the same number of digits\n",
    "    # Hint: don't loop over m and n as independent objects, because you can immediately figure out that there are lots of combinations\n",
    "    # that are so far away from pi and you can get rid of those.\n",
    "    # If you can do these numpy array, that's the way you should think. That will be enormously faster.\n",
    "\n",
    "    # Define m and n\n",
    "    \n",
    "    # Set n (fixed) and generate m  - to account for office hours hint of not treating m and n as independent objects\n",
    "    #   n and m are positive digits with exactly d digits\n",
    "    #       n belongs to the interval [10^(d-1), 10^d - 1]\n",
    "    #       m belongs to the interval [10^(d-1), 10^d - 1\n",
    "    # --- From documentation\n",
    "    #       numpy.arange([start, ]stop, [step, ]dtype=None, *, device=None, like=None)\n",
    "    #           Return evenly spaced values within a given interval. \n",
    "    #           For integer arguments the function is roughly equivalent to the Python built-in range, \n",
    "    #           but returns an ndarray rather than a range instance. \n",
    "    #           When using a non-integer step, such as 0.1, it is often better to use numpy.linspace.\n",
    "    # ---\n",
    "    #           The stop is exclusive, so if you want to include it, +1\n",
    "\n",
    "    start = 10**(d-1)\n",
    "    stop = 10**(d)-1\n",
    "    n = numpy.arange(start,stop+1)\n",
    "   \n",
    "    #   If we fix n, then we want the m that minimizes abs(pi - (m/n)) or abs(pi*n - m)\n",
    "    #\n",
    "    # numpy.rint(x, /, out=None, *, where=True, casting='same_kind', order='K', dtype=None, subok=True[, signature]) = <ufunc 'rint'>\n",
    "    #   Round elements of the array to the nearest integer.\n",
    "    #   For values exactly halfway between rounded decimal values, NumPy rounds to the nearest even value. \n",
    "    #   Thus 1.5 and 2.5 round to 2.0, -0.5 and 0.5 round to 0.0, etc.\n",
    "    # \n",
    "    #   np.rint rounds elementwise to the nearest integer (but still returns a NumPy array of floats)\n",
    "    #   .astype(int) converts float64 to int64\n",
    "    \n",
    "\n",
    "    m_initial = numpy.rint(n*numpy.pi).astype(int)\n",
    "\n",
    "    # Additionally in order to minimize the fractional error |pi-(m/n)|, I also check m_initial-1 and m_initial+1\n",
    "    # I will put that into a 2D array.\n",
    "    # m_contenders has shape (3, len(n)): 3 candidates per denominator\n",
    "\n",
    "    m_contenders = numpy.vstack([m_initial-1, m_initial, m_initial+1])\n",
    "\n",
    "    # I need to ensure m_contenders are positive integers of d digits\n",
    "    #   Note: for numpy.arange I used stop+1 because the endpoint is excluded\n",
    "    #   but for constraints I can just use <= stop because the <= does include the endpoint\n",
    "\n",
    "    m_digits = (m_contenders >= start) & (m_contenders <= stop)\n",
    "\n",
    "    # I also want to home in pi with my m_contenders\n",
    "    #   Pi belongs to the interval (3,4)\n",
    "    #   m/n is between 3 and 4\n",
    "    #   3n <= m <= 4\n",
    "    m_inpirange = (m_contenders >= 3*n) & (m_contenders <= 4*n)\n",
    "\n",
    "    # Both constraints applied\n",
    "    m_validate = m_digits & m_inpirange\n",
    "\n",
    "    # Compose fractions \n",
    "    fractions = m_contenders/n\n",
    "    \n",
    "    # build an array of n values that fit the interval\n",
    "    # define a candidate set that is a numpy array with values from m = round (pi*n)\n",
    "\n",
    "    # Calculate absolute error\n",
    "    \n",
    "    e = numpy.abs(numpy.pi - fractions)\n",
    "\n",
    "    # Remove invalid m contenders\n",
    "    # For every invalid candidate, set its error to infinity so it’s automatically disqualified.\n",
    "\n",
    "    e[~m_validate] = numpy.inf\n",
    "\n",
    "    # Calculate relative error with n and m\n",
    "\n",
    "    r = e/abs(numpy.pi)\n",
    "\n",
    "    # Calculate integer array of precision \n",
    "    p = numpy.where(r >0, numpy.floor(-numpy.log10(r/5.)), numpy.inf)\n",
    "\n",
    "\n",
    "    # Get index of the smallest error\n",
    "    smallest_index = numpy.argmin(e)\n",
    "\n",
    "    # Need to account for shape change of array and adjust\n",
    "    winner_row, winner_col = numpy.unravel_index(smallest_index, e.shape)\n",
    "\n",
    "    # Grab the winning m and n\n",
    "    m = m_contenders[winner_row, winner_col]\n",
    "    n = n[winner_col]\n",
    "    \n",
    "    return m, n "
   ]
  },
  {
   "cell_type": "code",
   "execution_count": 6,
   "metadata": {
    "deletable": false,
    "editable": false,
    "nbgrader": {
     "cell_type": "code",
     "checksum": "29119ccc9d740a4e6317ed3dc57f6657",
     "grade": true,
     "grade_id": "cell-6568ef410973a577",
     "locked": true,
     "points": 6,
     "schema_version": 3,
     "solution": false,
     "task": false
    }
   },
   "outputs": [
    {
     "name": "stdout",
     "output_type": "stream",
     "text": [
      "d=1: 3/1 = 3.0:\t e = 0.14159265358979312,\t, r = 0.04507034144862795,\t p= 2\n",
      "d=2: 44/14 = 3.142857142857143:\t e = 0.0012644892673496777,\t, r = 0.0004024994347707008,\t p= 4\n",
      "d=3: 355/113 = 3.1415929203539825:\t e = 2.667641894049666e-07,\t, r = 8.49136787674061e-08,\t p= 7\n",
      "d=4: 3195/1017 = 3.1415929203539825:\t e = 2.667641894049666e-07,\t, r = 8.49136787674061e-08,\t p= 7\n",
      "d=5: 99733/31746 = 3.1415926415926414:\t e = 1.1997151716514054e-08,\t, r = 3.818811997413258e-09,\t p= 9\n",
      "\n",
      "success!\n"
     ]
    }
   ],
   "source": [
    "# Testing Cell (do not copy)\n",
    "\n",
    "# print out best rational approximations and their errors  for d =1-5\n",
    "for d in range(1,6):\n",
    "    m,n = rational_pi(d)\n",
    "    e,r,p = errors(numpy.pi,m/n)\n",
    "    print('d={}: {}/{} = {}:\\t e = {},\\t, r = {},\\t p= {}'.format(d,m,n,m/n,e,r,p))\n",
    "    \n",
    "# Run assertion Tests\n",
    "numpy.testing.assert_allclose(rational_pi(2),(44, 14))\n",
    "numpy.testing.assert_allclose(rational_pi(3),(355, 113))\n",
    "print('\\nsuccess!')\n"
   ]
  },
  {
   "cell_type": "markdown",
   "metadata": {
    "deletable": false,
    "editable": false,
    "nbgrader": {
     "cell_type": "markdown",
     "checksum": "cabe33a4165802a8de9d6c0d6b322917",
     "grade": false,
     "grade_id": "cell-23707a8e710ca676",
     "locked": true,
     "schema_version": 3,
     "solution": false,
     "task": false
    }
   },
   "source": [
    "**(d)** [6 pts] $F = n \\log(n) - n$ is Stirling's approximation to  $f = \\log(n!)$ for large values of $n$. \n",
    "Do the following\n",
    "\n",
    "* Make a plot showing the relative error and degree of decimal precision for $f$ and $F$ as a function of integer $n$\n",
    "\n",
    "* Estimate the smallest value of $n$ where Stirling's approximation is good to 4 decimal places of precision.  \n",
    "\n",
    "**Note**: If you use the `factorial` function imported from `scipy.special`, you will not be able to answer this question.  **Why?**  \n",
    "\n",
    "**Hint**: However there is another way to evaluate $\\log(n!)$ for integer $n$ that will work."
   ]
  },
  {
   "cell_type": "code",
   "execution_count": 23,
   "metadata": {
    "deletable": false,
    "nbgrader": {
     "cell_type": "code",
     "checksum": "6195fab472e4537966b7eba4a529a13b",
     "grade": true,
     "grade_id": "cell-a5639245c28a1642",
     "locked": false,
     "points": 4,
     "schema_version": 3,
     "solution": true,
     "task": false
    }
   },
   "outputs": [
    {
     "data": {
      "image/png": "[encoded data removed]",
      "text/plain": [
       "<Figure size 640x480 with 1 Axes>"
      ]
     },
     "metadata": {},
     "output_type": "display_data"
    },
    {
     "data": {
      "image/png": "[encoded data removed]",
      "text/plain": [
       "<Figure size 640x480 with 1 Axes>"
      ]
     },
     "metadata": {},
     "output_type": "display_data"
    },
    {
     "name": "stdout",
     "output_type": "stream",
     "text": [
      "Smallest n where Stirling's approximation gives 4+ decimal places of precision: 1452\n"
     ]
    }
   ],
   "source": [
    "# choose N (e.g., 10000)\n",
    "N = 10000\n",
    "n = numpy.arange(2, N+1, dtype=float)\n",
    "\n",
    "\n",
    "\n",
    "# true log(n!) via cumulative sum of logs\n",
    "# f = numpy.cumsum(numpy.log(n))              # shape (N,)\n",
    "f = numpy.cumsum(numpy.log(numpy.arange(1, N+1)))[1:]  # same length as n\n",
    "\n",
    "\n",
    "# Stirling (crude) approximation\n",
    "F = n * numpy.log(n) - n\n",
    "\n",
    "# errors\n",
    "e = numpy.abs(f - F)\n",
    "r = e/numpy.abs(f)\n",
    "\n",
    "# decimal precision (guard zeros)\n",
    "p = numpy.where(r > 0, numpy.floor(-numpy.log10(r/5.)), numpy.inf)\n",
    "\n",
    "# plotting (two separate figures is fine)\n",
    "# plt.figure(); plt.plot(n, rel_err); plt.yscale('log'); ...\n",
    "# plt.figure(); plt.plot(n, p); ...\n",
    "plt.figure()\n",
    "plt.plot(n, r)\n",
    "plt.yscale('log')\n",
    "plt.xlabel(\"n\")\n",
    "plt.ylabel(\"Relative Error\")\n",
    "\n",
    "plt.figure()\n",
    "plt.plot(n, p)\n",
    "plt.xlabel(\"n\")\n",
    "plt.ylabel(\"Decimal Precision\")\n",
    "\n",
    "plt.show()\n",
    "\n",
    "\n",
    "if not numpy.any(p >= 4):\n",
    "    print(\"No n ≤\", N, \"achieves 4 decimal places.\")\n",
    "else:\n",
    "    idx = numpy.argmax(p >= 4)\n",
    "    n_star = int(n[idx])\n",
    "    print(\"Smallest n where Stirling's approximation gives 4+ decimal places of precision:\", n_star)\n"
   ]
  },
  {
   "cell_type": "markdown",
   "metadata": {
    "deletable": false,
    "nbgrader": {
     "cell_type": "markdown",
     "checksum": "c6321f16c18ce03a19fd25289b7d8ab4",
     "grade": true,
     "grade_id": "cell-dcc45d9028355b73",
     "locked": false,
     "points": 2,
     "schema_version": 3,
     "solution": true,
     "task": false
    }
   },
   "source": [
    "Computing log(n!) as log(factorial(n)) overflows in float64 at n≥171 because n! exceeds the largest representable number (≈1.8×10^308). The intermediate n! is not computable in floating point."
   ]
  },
  {
   "cell_type": "code",
   "execution_count": 22,
   "metadata": {},
   "outputs": [
    {
     "name": "stdout",
     "output_type": "stream",
     "text": [
      "Naive method overflows starting at n = 171\n",
      "n= 10: naive=15.104, stable=15.104\n",
      "n= 50: naive=148.478, stable=148.478\n",
      "n=100: naive=363.739, stable=363.739\n",
      "n=170: naive=706.573, stable=706.573\n",
      "n=171: naive=inf, stable=711.715\n"
     ]
    }
   ],
   "source": [
    "from scipy.special import factorial\n",
    "\n",
    "# test n from 1 to 200\n",
    "ns = numpy.arange(1, 201)\n",
    "\n",
    "# Naive: log(factorial(n)) using floats\n",
    "naive = []\n",
    "for k in ns:\n",
    "    try:\n",
    "        val = numpy.log(factorial(k, exact=False))  # float factorial\n",
    "    except Exception:\n",
    "        val = numpy.nan\n",
    "    naive.append(val)\n",
    "naive = numpy.array(naive)\n",
    "\n",
    "# Stable: cumulative sum of logs\n",
    "stable = numpy.cumsum(numpy.log(ns))  # equals log(n!) for n>=1\n",
    "\n",
    "# Where does naive blow up?\n",
    "overflow_at = ns[numpy.isinf(naive)][0]   # should be 171\n",
    "\n",
    "print(\"Naive method overflows starting at n =\", overflow_at)\n",
    "\n",
    "# Show a few values side by side\n",
    "for k in [10, 50, 100, 170]:\n",
    "    print(f\"n={k:3d}: naive={naive[k-1]:.3f}, stable={stable[k-1]:.3f}\")\n",
    "\n",
    "print(f\"n=171: naive={naive[170]}, stable={stable[170]:.3f}\")\n"
   ]
  },
  {
   "cell_type": "markdown",
   "metadata": {
    "deletable": false,
    "editable": false,
    "nbgrader": {
     "cell_type": "markdown",
     "checksum": "f0593d0fc109efbd4ef1e480f90fba29",
     "grade": false,
     "grade_id": "cell-5632471080286207",
     "locked": true,
     "schema_version": 3,
     "solution": false
    }
   },
   "source": [
    "## Question 2:  The great Exp challenge...\n",
    "\n",
    "Here you will attempt to write a function to calculate $e^x$ using its Taylor polynomial approximation expanded around $x_0=0$\n",
    "\n",
    "$$e^x \\approx T_n(x) = 1 + x + \\frac{x^2}{2!} + \\frac{x^3}{3!} + \\cdots + \\frac{x^n}{n!}$$\n",
    "\n",
    "such that the relative error of $f=e^x$ and $F=T_n(x)$ is of order Machine epsilon ($\\epsilon_{machine}$) for  $x\\in[-50,50]$.  This problem is actually a bit of a stinker and takes a bit of thought (particularly for $x<0$).  But I'll work you through it."
   ]
  },
  {
   "cell_type": "markdown",
   "metadata": {
    "deletable": false,
    "editable": false,
    "nbgrader": {
     "cell_type": "markdown",
     "checksum": "d16eac32cec2913a95095d153a7994b7",
     "grade": false,
     "grade_id": "cell-8186992197557199",
     "locked": true,
     "schema_version": 3,
     "solution": false
    }
   },
   "source": [
    "**(a)** [4 pts] Assume $x> 0$ and show that the upper bound on the *relative error*  at term $n$ \n",
    "\n",
    "$$r_n = \\frac{|e^x - T_n(x)|}{|e^x|}$$\n",
    "\n",
    "is given by\n",
    "\n",
    "$$r_n \\leq \\left | \\frac{x^{n+1}}{(n + 1)!} \\right |$$"
   ]
  },
  {
   "cell_type": "markdown",
   "metadata": {
    "deletable": false,
    "nbgrader": {
     "cell_type": "markdown",
     "checksum": "c066945aa96e6e08fcb676cf3b3e08f3",
     "grade": true,
     "grade_id": "cell-2747685663052674",
     "locked": false,
     "points": 4,
     "schema_version": 3,
     "solution": true
    }
   },
   "source": [
    "**My Answer:** \n",
    "**See Office Hours notes**\n",
    "\n",
    "With $x>0$, bound the *relative truncation error* when approximating $e^x$ by its degree–$n$ Taylor polynomial  \n",
    "\n",
    "$$\n",
    "T_n(x)=\\sum_{k=0}^{n}\\frac{x^k}{k!}.\n",
    "$$\n",
    "\n",
    "**Remainder (Lagrange form).** For a $C^{n+1}$ function,\n",
    "\n",
    "$$\n",
    "e^x - T_n(x) \\;=\\; R_{n+1}(x)\n",
    "= \\frac{f^{(n+1)}(\\xi)}{(n+1)!}\\,x^{n+1}\n",
    "\\quad\\text{for some } \\xi\\in(0,x).\n",
    "$$\n",
    "\n",
    "For $f(x)=e^x$, all derivatives equal $e^t$, so\n",
    "\n",
    "$$\n",
    "R_{n+1}(x)=\\frac{e^{\\xi}}{(n+1)!}\\,x^{n+1}, \\qquad 0<\\xi<x.\n",
    "$$\n",
    "\n",
    "**Monotonicity for $x>0$.** Since $0<\\xi<x$ and $e^t$ is increasing,\n",
    "\n",
    "$$\n",
    "e^{\\xi}\\le e^{x}.\n",
    "$$\n",
    "\n",
    "**Relative error bound.**\n",
    "\n",
    "$$\n",
    "r_n\n",
    "=\\frac{|e^x-T_n(x)|}{|e^x|}\n",
    "=\\frac{|R_{n+1}(x)|}{e^x}\n",
    "\\le \\frac{e^{x}x^{n+1}/(n+1)!}{e^{x}}\n",
    "= \\frac{|x|^{\\,n+1}}{(n+1)!}, \\quad (x>0).\n",
    "$$\n",
    "\n",
    "*Comment:* This is a pure truncation-error estimate from the Taylor remainder; machine epsilon comes later when we choose $n$ so that this bound is at or below the desired numerical tolerance.\n"
   ]
  },
  {
   "cell_type": "markdown",
   "metadata": {
    "deletable": false,
    "editable": false,
    "nbgrader": {
     "cell_type": "markdown",
     "checksum": "9a252bb988e5ae52a24a2e87dfe820b2",
     "grade": false,
     "grade_id": "cell-4678254376542691",
     "locked": true,
     "schema_version": 3,
     "solution": false
    }
   },
   "source": [
    "**(b)** [4 pts] Analytically show that for **large** $x\\gg1$ and $n$, $r_n \\leq \\epsilon_{\\text{machine}}$ implies that we need *approximately* $n > e \\cdot x$ terms in the series (where $e = \\text{exp}(1)$).\n",
    "\n",
    "*Hint* Use Stirling's approximation $log (n!) \\approx n~log~n - n$ (and then this problem is still a bit tricky)"
   ]
  },
  {
   "cell_type": "markdown",
   "metadata": {
    "deletable": false,
    "nbgrader": {
     "cell_type": "markdown",
     "checksum": "8152aede9f1e1f429a231ee2b82df69c",
     "grade": true,
     "grade_id": "cell-4305745011657702",
     "locked": false,
     "points": 4,
     "schema_version": 3,
     "solution": true
    }
   },
   "source": [
    "We want the degree–$n$ Taylor truncation to meet a target relative error $\\varepsilon$:\n",
    "\n",
    "$$\n",
    "r_n \\le \\frac{x^{n+1}}{(n+1)!} \\le \\varepsilon, \\qquad x>0.\n",
    "$$\n",
    "\n",
    "Let $m=n+1$. Taking logs and using Stirling in log form,\n",
    "\n",
    "$$\n",
    "\\log\\!\\frac{x^m}{m!}\n",
    "\\;\\approx\\;\n",
    "m\\log x - (m\\log m - m)\n",
    "= m\\left[1+\\log\\!\\left(\\tfrac{x}{m}\\right)\\right]\n",
    "=: g(m).\n",
    "$$\n",
    "\n",
    "The bracket changes sign at $1+\\log(x/m)=0 \\iff m=e\\,x$.  \n",
    "Thus $g(m)>0$ for $m<e x$ (too large to satisfy $\\log\\varepsilon<0$), and $g(m)<0$ for $m>e x$.  \n",
    "Hence to drive the error below $\\varepsilon$ we need\n",
    "\n",
    "$$\n",
    "m=n+1 \\;\\gtrsim\\; e\\,x \\quad \\Rightarrow \\quad n \\;\\gtrsim\\; e\\,x.\n",
    "$$\n",
    "\n",
    "A first-order refinement linearizing $g$ at $m=e x$ (where $g'=-1$) gives\n",
    "\n",
    "$$\n",
    "m \\approx e\\,x - \\log \\varepsilon\n",
    "\\;\\Rightarrow\\;\n",
    "n \\approx e\\,x - \\log \\varepsilon - 1,\n",
    "$$\n",
    "\n",
    "so for float64 ($-\\log \\varepsilon \\approx 36$) one expects $n \\approx e\\,x + 35$.\n"
   ]
  },
  {
   "cell_type": "markdown",
   "metadata": {
    "deletable": false,
    "editable": false,
    "nbgrader": {
     "cell_type": "markdown",
     "checksum": "a9cef1843dc0ae1deb7e6dbe5f77c33c",
     "grade": false,
     "grade_id": "cell-8048500717179941",
     "locked": true,
     "schema_version": 3,
     "solution": false
    }
   },
   "source": [
    "**(c)** [6 pts] Use this result to write a Python function that accurately approximates $e^x$ using $T_n(x)$ for scalar $x$ and returns both the estimate and the number of terms in the series.  Note that the testing tolerance will be $8 \\cdot \\epsilon_{\\text{machine}}$ over the range $x\\in[-50,50]$\n",
    "\n",
    "Make sure to document your code including expected inputs, outputs, and assumptions being made.\n",
    "\n",
    "Some Hints:\n",
    "* To make your life easier,  we will assume $x$ and $T_n(x)$ are just of type float (not arrays)\n",
    "* Think about how we evaluated polynomials efficiently in class\n",
    "* $T_n(x)$ for $x<0$ is a highly unstable alternating series with severe cancellation issues. However, there is a simple fix that will return accurate solutions independent of the sign of $x$"
   ]
  },
  {
   "cell_type": "code",
   "execution_count": null,
   "metadata": {
    "deletable": false,
    "nbgrader": {
     "cell_type": "code",
     "checksum": "80286c759520479af4ce906ac70f62e5",
     "grade": false,
     "grade_id": "cell-5914967225034965",
     "locked": false,
     "schema_version": 3,
     "solution": true,
     "task": false
    }
   },
   "outputs": [],
   "source": [
    "def Tn_exp(x):\n",
    "    \"\"\" Write a decent description here\n",
    "    \n",
    "    Parameters:\n",
    "    -----------\n",
    "        x: float\n",
    "            scalar value to approximate exp(x)\n",
    "    \"\"\"\n",
    "\n",
    "    assert(isinstance(x,float))\n",
    "    # rough estimate of maximum number of steps for large x\n",
    "    # MAX_N = ??\n",
    "    \n",
    "    # YOUR CODE HERE\n",
    "    raise NotImplementedError()\n",
    "    \n",
    "    return Tn, MAX_N"
   ]
  },
  {
   "cell_type": "code",
   "execution_count": null,
   "metadata": {},
   "outputs": [],
   "source": [
    "# Feel free to test your code here and/or make a plot of errors"
   ]
  },
  {
   "cell_type": "code",
   "execution_count": null,
   "metadata": {
    "deletable": false,
    "editable": false,
    "nbgrader": {
     "cell_type": "code",
     "checksum": "ab0f32ce185cc2c7955fb0d04d65f027",
     "grade": true,
     "grade_id": "cell-9688375319882602",
     "locked": true,
     "points": 6,
     "schema_version": 3,
     "solution": false
    }
   },
   "outputs": [],
   "source": [
    "# Testing Cell (do not copy)\n",
    "\n",
    "x = numpy.linspace(-50, 50, 101)\n",
    "eps = numpy.finfo(float).eps\n",
    "tolerance = 8 * eps\n",
    "\n",
    "answer = numpy.zeros(x.shape)\n",
    "N = numpy.zeros(x.shape)\n",
    "for i,xi in enumerate(x):\n",
    "    answer[i], N[i] = Tn_exp(xi)\n",
    "r = numpy.abs(answer - numpy.exp(x)) / numpy.abs(numpy.exp(x))\n",
    "print('maxmimum relative error = {} eps_machine'.format(r.max()/eps))\n",
    "assert(numpy.all(r  < tolerance))\n",
    "print(\"Success!\")"
   ]
  },
  {
   "cell_type": "markdown",
   "metadata": {
    "deletable": false,
    "editable": false,
    "nbgrader": {
     "cell_type": "markdown",
     "checksum": "2b1d4a353e51fbba1658f5a6968d1b42",
     "grade": false,
     "grade_id": "cell-c154452f653c5adc",
     "locked": true,
     "schema_version": 3,
     "solution": false,
     "task": false
    }
   },
   "source": [
    "**(d)** [4 pts] In ieee double precision,  the largest value of $x$ that has $e^x<$ `numpy.finfo(float).max` is about 709 (i.e. `numpy.log(numpy.finfo(float).max))`. \n",
    "\n",
    "* What is the relative error in units of machine epsilon for your routine and `f=numpy.exp(709)`\n",
    "* What is the relative error in units of machine epsilon for `F=numpy.exp(1)**709` and `f=numpy.exp(709)`\n",
    "\n",
    "Explain your results"
   ]
  },
  {
   "cell_type": "markdown",
   "metadata": {
    "deletable": false,
    "nbgrader": {
     "cell_type": "markdown",
     "checksum": "a5a47ab9f08e7fe4764609703387ef9d",
     "grade": true,
     "grade_id": "cell-26e754d164cf2a3a",
     "locked": false,
     "points": 4,
     "schema_version": 3,
     "solution": true,
     "task": false
    }
   },
   "source": [
    "YOUR ANSWER HERE"
   ]
  },
  {
   "cell_type": "markdown",
   "metadata": {
    "deletable": false,
    "editable": false,
    "nbgrader": {
     "cell_type": "markdown",
     "checksum": "7acaa725abfd22229bddd35f652e4b57",
     "grade": false,
     "grade_id": "cell-aaa3ac7c64bd5868",
     "locked": true,
     "schema_version": 3,
     "solution": false,
     "task": false
    }
   },
   "source": [
    "**(e)** **Extra Credit**\n",
    "\n",
    "[4 pts] Can you modify your routine for `Tn_exp(x)`) to approximate $e^x$ on the range $x\\in[-709, 709]$ to within 16 $\\epsilon_{machine}$?\n"
   ]
  },
  {
   "cell_type": "code",
   "execution_count": null,
   "metadata": {
    "deletable": false,
    "nbgrader": {
     "cell_type": "code",
     "checksum": "9c184e65af5b8e5f46c673245638f9ef",
     "grade": false,
     "grade_id": "cell-28a21d2a7d0bda99",
     "locked": false,
     "schema_version": 3,
     "solution": true,
     "task": false
    }
   },
   "outputs": [],
   "source": [
    "# YOUR CODE HERE\n",
    "raise NotImplementedError()"
   ]
  },
  {
   "cell_type": "code",
   "execution_count": null,
   "metadata": {
    "deletable": false,
    "editable": false,
    "nbgrader": {
     "cell_type": "code",
     "checksum": "47c964bd17be30e90d2a8b03d580466c",
     "grade": true,
     "grade_id": "cell-96883753198883843",
     "locked": true,
     "points": 0,
     "schema_version": 3,
     "solution": false
    }
   },
   "outputs": [],
   "source": [
    "x = numpy.linspace(-709, 709, 101)\n",
    "tolerance = 16 * eps\n",
    "\n",
    "answer = numpy.zeros(x.shape)\n",
    "N = numpy.zeros(x.shape)\n",
    "for i,xi in enumerate(x):\n",
    "    answer[i], N[i] = Tn_exp(xi, tolerance=tolerance)\n",
    "r = numpy.abs(answer - numpy.exp(x)) / numpy.abs(numpy.exp(x))\n",
    "print('maxmimum relative error = {} eps_machine'.format(r.max()/eps))\n",
    "assert(numpy.all(r  < tolerance))\n",
    "print(\"Success!\")"
   ]
  },
  {
   "cell_type": "markdown",
   "metadata": {
    "deletable": false,
    "editable": false,
    "nbgrader": {
     "cell_type": "markdown",
     "checksum": "849e3c7c4a4601dd9c86faa5100d41e1",
     "grade": false,
     "grade_id": "cell-6605000347660435",
     "locked": true,
     "schema_version": 3,
     "solution": false
    }
   },
   "source": [
    "## Question 3\n",
    "\n",
    "Consider a computing system that uses deoxyribonucleic acid (DNA) to store information.  Given that DNA is formed from the 4 nucleobases adenine, cytosine, guanine, and thymine,  let us assume that our storage of numbers will be base 4.  Answer the following questions based on this assuming that we have $p=3$ for the mantissa and the exponent $E \\in [-3, 3]$ (and we'll pretend DNA has a sign bit...chirality?)."
   ]
  },
  {
   "cell_type": "markdown",
   "metadata": {
    "deletable": false,
    "editable": false,
    "nbgrader": {
     "cell_type": "markdown",
     "checksum": "c13ca513b18f26ed2af616dd50206047",
     "grade": false,
     "grade_id": "cell-9339658002746268",
     "locked": true,
     "schema_version": 3,
     "solution": false
    }
   },
   "source": [
    "**(a)** [4 pts] How many numbers can we represent with this floating point system (assume it's normalized)?  What are the underflow and overflow limits? What is machine Epsilon?"
   ]
  },
  {
   "cell_type": "markdown",
   "metadata": {
    "deletable": false,
    "nbgrader": {
     "cell_type": "markdown",
     "checksum": "b0255974fb370e1c331638d41f074ddf",
     "grade": true,
     "grade_id": "cell-623b625975f5da41",
     "locked": false,
     "points": 4,
     "schema_version": 3,
     "solution": true
    }
   },
   "source": [
    "YOUR ANSWER HERE"
   ]
  },
  {
   "cell_type": "markdown",
   "metadata": {
    "deletable": false,
    "editable": false,
    "nbgrader": {
     "cell_type": "markdown",
     "checksum": "29c7fc5ca0808f62a6b35897f3fbbe87",
     "grade": false,
     "grade_id": "cell-9339658dsfsdf46268",
     "locked": true,
     "schema_version": 3,
     "solution": false
    }
   },
   "source": [
    "**(b)** [4pts] Graphically show how the numbers on the decimal real line are distributed."
   ]
  },
  {
   "cell_type": "code",
   "execution_count": null,
   "metadata": {
    "deletable": false,
    "nbgrader": {
     "cell_type": "code",
     "checksum": "b95cccb5e3723bc4ebd7a1a10500f39a",
     "grade": true,
     "grade_id": "cell-4c6d3ae47566d1f1",
     "locked": false,
     "points": 4,
     "schema_version": 3,
     "solution": true
    }
   },
   "outputs": [],
   "source": [
    "# YOUR CODE HERE\n",
    "raise NotImplementedError()"
   ]
  },
  {
   "cell_type": "markdown",
   "metadata": {
    "deletable": false,
    "editable": false,
    "nbgrader": {
     "cell_type": "markdown",
     "checksum": "ccb40bd89db6f72ad79d21347ff7c1d8",
     "grade": false,
     "grade_id": "cell-93396552502746268",
     "locked": true,
     "schema_version": 3,
     "solution": false
    }
   },
   "source": [
    "**(c)** [4 pts] For the same  range of $E$, estimate the ratio of numbers that can be stored in  $p$ base-pairs (base 4) versus $p$ bits (base 2).  Check your answer against the given problem with $p=3$ and $E\\in[-3,3]$"
   ]
  },
  {
   "cell_type": "code",
   "execution_count": null,
   "metadata": {},
   "outputs": [],
   "source": [
    "# some noodle space for calculations if you want"
   ]
  },
  {
   "cell_type": "markdown",
   "metadata": {
    "deletable": false,
    "nbgrader": {
     "cell_type": "markdown",
     "checksum": "16825fa4b75b7fc34d854b1653fe64b8",
     "grade": true,
     "grade_id": "cell-6de5d8dbf91c5ff7",
     "locked": false,
     "points": 4,
     "schema_version": 3,
     "solution": true
    }
   },
   "source": [
    "YOUR ANSWER HERE"
   ]
  }
 ],
 "metadata": {
  "kernelspec": {
   "display_name": "apma4300",
   "language": "python",
   "name": "python3"
  },
  "language_info": {
   "codemirror_mode": {
    "name": "ipython",
    "version": 3
   },
   "file_extension": ".py",
   "mimetype": "text/x-python",
   "name": "python",
   "nbconvert_exporter": "python",
   "pygments_lexer": "ipython3",
   "version": "3.10.18"
  },
  "latex_envs": {
   "bibliofile": "biblio.bib",
   "cite_by": "apalike",
   "current_citInitial": 1,
   "eqLabelWithNumbers": true,
   "eqNumInitial": 0
  }
 },
 "nbformat": 4,
 "nbformat_minor": 4
}
